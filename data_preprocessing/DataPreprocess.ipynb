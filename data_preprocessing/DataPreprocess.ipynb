{
 "cells": [
  {
   "cell_type": "markdown",
   "metadata": {},
   "source": [
    "# Data preprocessing\n",
    "\n",
    "This document describes the data preprocessing steps used in the paper.\n",
    "* six gold standard datasets\n",
    "* six silver standard datasets\n",
    "* two large datasets"
   ]
  },
  {
   "cell_type": "markdown",
   "metadata": {},
   "source": [
    "## six gold standard datasets"
   ]
  },
  {
   "cell_type": "code",
   "execution_count": null,
   "metadata": {},
   "outputs": [],
   "source": [
    "import scanpy as sc\n",
    "import pandas as pd\n",
    "import numpy as np\n",
    "import h5py"
   ]
  },
  {
   "cell_type": "code",
   "execution_count": null,
   "metadata": {},
   "outputs": [],
   "source": [
    "c1=pd.read_csv('gold_countsfile.csv')\n",
    "label1=pd.read_csv('gold_label.csv')\n",
    "counts_list=c1.iloc[:,1].tolist().sort()\n",
    "label_list=label1.iloc[:,1].tolist().sort()\n",
    "filename=['Biase','deng','goolam','kolodziejczyk','pollen','yan']\n",
    "for i in range(len(filename)):\n",
    "    data=sc.read_csv(counts_list[i]).T\n",
    "    label=pd.read_csv(label_list[i])\n",
    "    data.obs['celltype']=pd.Categorical(label['label'])\n",
    "\n",
    "    data.var['dropouts'] = np.sum(data.to_df()==0,axis=0)/data.to_df().shape[0]*100\n",
    "    data = data[:,data.var['dropouts'].values >10]\n",
    "    data = data[:,data.var['dropouts'].values <90]\n",
    "    sc.pp.normalize_total(data, target_sum=1e4)\n",
    "\n",
    "    sc.pp.log1p(data,base=2)\n",
    "\n",
    "    sc.pp.highly_variable_genes(data, min_mean=0.0125, max_mean=3, min_disp=0.5)\n",
    "    data = data[:, data.var.highly_variable]\n",
    "\n",
    "    sc.pp.scale(data, max_value=10)\n",
    "\n",
    "    data.var['MT']=data.var_names.str.startswith('MT')\n",
    "    data.var['ercc'] = data.var_names.str.startswith('ERCC')  # annotate the group of mitochondrial genes as 'mt'\n",
    "    sc.pp.calculate_qc_metrics(data, qc_vars=['ercc'], percent_top=None, log1p=False, inplace=True)\n",
    "    data = data[:,~data.var['ercc']]\n",
    "    data=data[:,~data.var['MT']]\n",
    "\n",
    "    sc.tl.pca(data,svd_solver='arpack')\n",
    "    data.write(filename[i]+'_pca.h5ad')"
   ]
  },
  {
   "cell_type": "markdown",
   "metadata": {},
   "source": [
    "## six silver standard datasets"
   ]
  },
  {
   "cell_type": "code",
   "execution_count": null,
   "metadata": {},
   "outputs": [],
   "source": [
    "file='datasets/'\n",
    "filenames=['10X_PBMC.h5','human_kidney.h5','mouse_retain.h5','worm_neuron.h5']\n",
    "for i in range(len(file)):\n",
    "    print(file[i])\n",
    "    data_mat = h5py.File(file+file[i])\n",
    "    data = sc.AnnData(np.array(data_mat['X']))\n",
    "    data.obs['label'] = np.array(data_mat['Y'])\n",
    "    sc.pp.filter_genes(data, min_counts=1)\n",
    "    sc.pp.filter_cells(data, min_counts=1)\n",
    "    sc.pp.normalize_per_cell(data,target_sum=1e4)\n",
    "    sc.pp.log1p(data,base=2)\n",
    "    sc.pp.highly_variable_genes(data, min_mean=0.0125, max_mean=3, min_disp=0.5)\n",
    "    data = data[:, data.var.highly_variable]\n",
    "    sc.pp.scale(data, max_value=10)\n",
    "    sc.tl.pca(data, svd_solver='arpack')\n",
    "    filename=file+'results/',file[i].split('.')[0]\n",
    "    data.write(filename,'.h5ad')"
   ]
  },
  {
   "cell_type": "markdown",
   "metadata": {},
   "source": [
    "### TAM FACS"
   ]
  },
  {
   "cell_type": "code",
   "execution_count": null,
   "metadata": {},
   "outputs": [],
   "source": [
    "adata=sc.read('tabula-muris-senis-facs-official-raw-obj.h5ad')\n",
    "sc.pp.filter_genes(adata,min_cells=3)\n",
    "sc.pp.filter_cells(adata,min_genes=250)\n",
    "sc.pp.filter_cells(adata,min_counts=5000)\n",
    "sc.pp.normalize_per_cell(adata,counts_per_cell_after=1e4)\n",
    "sc.pp.log1p(adata)\n",
    "sc.pp.highly_variable_genes(adata,min_mean=0.0125, max_mean=3, min_disp=0.5)\n",
    "sc.pp.scale(adata,max_value=10)\n",
    "data.write('facs_pca.h5ad')"
   ]
  },
  {
   "cell_type": "markdown",
   "metadata": {},
   "source": [
    "## two large datasets"
   ]
  },
  {
   "cell_type": "markdown",
   "metadata": {},
   "source": [
    "### Mouse brain"
   ]
  },
  {
   "cell_type": "code",
   "execution_count": null,
   "metadata": {},
   "outputs": [],
   "source": [
    "data=sc.read('1.3m_scAIDE_labels.h5ad')\n",
    "data.obs['label']=pd.Categorical(data.obs['pred'].values.tolist())\n",
    "print(data.obs['label'])\n",
    "data.var_names_make_unique()  # this is unnecessary if using `var_names='gene_ids'` in `sc.read_10x_mtx`\n",
    "sc.pp.filter_cells(data, min_genes=200)\n",
    "sc.pp.filter_genes(data, min_cells=3)\n",
    "data.var['mt'] = data.var_names.str.startswith('MT-')  # annotate the group of mitochondrial genes as 'mt'\n",
    "sc.pp.calculate_qc_metrics(data, qc_vars=['mt'], percent_top=None, log1p=False, inplace=True)\n",
    "data = data[data.obs.n_genes_by_counts < 2500, :]\n",
    "data = data[data.obs.pct_counts_mt < 5, :]\n",
    "sc.pp.normalize_total(data, target_sum=1e4)\n",
    "sc.pp.log1p(data)\n",
    "sc.pp.highly_variable_genes(data, min_mean=0.0125, max_mean=3, min_disp=0.5)\n",
    "data = data[:,data.var.highly_variable]\n",
    "sc.pp.scale(data, max_value=10)\n",
    "sc.tl.pca(data)\n",
    "data.write('brain_pca.h5ad')"
   ]
  },
  {
   "cell_type": "markdown",
   "metadata": {},
   "source": [
    "### MCA"
   ]
  },
  {
   "cell_type": "code",
   "execution_count": null,
   "metadata": {},
   "outputs": [],
   "source": [
    "dat = sc.read('MCA_BatchRemoved_Merge_dge.h5ad')\n",
    "sc.pp.filter_genes(dat, min_cells=3)\n",
    "sc.pp.filter_cells(dat, min_genes=100)\n",
    "sc.pp.normalize_total(dat, target_sum=1e4) ##标准化\n",
    "sc.pp.log1p(dat,base=2)\n",
    "sc.pp.highly_variable_genes(dat, min_mean=0.0125, max_mean=3, min_disp=0.5)\n",
    "data1 = dat[:, dat.var.highly_variable]\n",
    "sc.pp.scale(data1, max_value=10)\n",
    "sc.tl.pca(data1, svd_solver='arpack')\n",
    "data1.write('MCA_BatchRemoved_Merge_dge.h5ad')"
   ]
  }
 ],
 "metadata": {
  "kernelspec": {
   "display_name": "Python 3.8.8 ('base')",
   "language": "python",
   "name": "python3"
  },
  "language_info": {
   "codemirror_mode": {
    "name": "ipython",
    "version": 3
   },
   "file_extension": ".py",
   "mimetype": "text/x-python",
   "name": "python",
   "nbconvert_exporter": "python",
   "pygments_lexer": "ipython3",
   "version": "3.8.8"
  },
  "orig_nbformat": 4,
  "vscode": {
   "interpreter": {
    "hash": "2bed7d32d79e9dd13b2aed7719fd38fc2ec9d35f087c458351b53f63f2d76222"
   }
  }
 },
 "nbformat": 4,
 "nbformat_minor": 2
}
